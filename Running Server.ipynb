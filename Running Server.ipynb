{
 "cells": [
  {
   "cell_type": "code",
   "execution_count": 1,
   "id": "a415eab1-191d-471d-acb6-badd53bdbb33",
   "metadata": {},
   "outputs": [
    {
     "data": {
      "text/plain": [
       "CompletedProcess(args=['python', 'C:\\\\Users\\\\Asus\\\\Music\\\\CodeWithEtfMishan\\\\AddRover\\\\client.py'], returncode=2)"
      ]
     },
     "execution_count": 1,
     "metadata": {},
     "output_type": "execute_result"
    }
   ],
   "source": [
    "import subprocess  # Import the subprocess module\n",
    "\n",
    "server_file = r\"C:\\Users\\Asus\\Music\\CodeWithEtfMishan\\AddRover\\server.py\"\n",
    "client_file = r\"C:\\Users\\Asus\\Music\\CodeWithEtfMishan\\AddRover\\client.py\"\n",
    "\n",
    "# Run server.py\n",
    "subprocess.run([\"python\", server_file])\n",
    "\n",
    "# Run client.py\n",
    "subprocess.run([\"python\", client_file])"
   ]
  },
  {
   "cell_type": "markdown",
   "id": "98f53e6a-0f6f-415c-8b44-84811d312171",
   "metadata": {},
   "source": [
    "# Monitor and Load Continuous Data"
   ]
  },
  {
   "cell_type": "code",
   "execution_count": null,
   "id": "3070dcc3-617e-4c15-a127-a66e9b61c709",
   "metadata": {},
   "outputs": [
    {
     "name": "stdout",
     "output_type": "stream",
     "text": [
      "Monitoring data.json for updates...\n"
     ]
    }
   ],
   "source": [
    "# Import necessary libraries\n",
    "import json\n",
    "import pandas as pd\n",
    "import os\n",
    "import time\n",
    "\n",
    "# Path to the data.json file (replace with your actual path)\n",
    "file_path = r\"C:\\Users\\Asus\\Music\\CodeWithEhtisham\\AddRover\\data.json\"\n",
    "\n",
    "# Function to load the JSON data into a DataFrame\n",
    "def load_data():\n",
    "    with open(file_path, 'r') as file:\n",
    "        data = json.load(file)\n",
    "    return pd.DataFrame(data)\n",
    "\n",
    "# Monitor the data.json file for changes\n",
    "last_modified = os.path.getmtime(file_path)\n",
    "print(\"Monitoring data.json for updates...\")\n",
    "\n",
    "# Continuously monitor for updates\n",
    "while True:\n",
    "    current_modified = os.path.getmtime(file_path)\n",
    "    if current_modified != last_modified:\n",
    "        print(\"Data updated. Reloading...\")\n",
    "        df = load_data()\n",
    "        print(df.tail())  # Display the latest rows for verification\n",
    "        last_modified = current_modified\n",
    "    time.sleep(5)  # Check every 5 seconds"
   ]
  },
  {
   "cell_type": "code",
   "execution_count": null,
   "id": "117de23c-9792-4aa1-8506-da9b426f18e6",
   "metadata": {},
   "outputs": [],
   "source": []
  }
 ],
 "metadata": {
  "kernelspec": {
   "display_name": "Python 3 (ipykernel)",
   "language": "python",
   "name": "python3"
  },
  "language_info": {
   "codemirror_mode": {
    "name": "ipython",
    "version": 3
   },
   "file_extension": ".py",
   "mimetype": "text/x-python",
   "name": "python",
   "nbconvert_exporter": "python",
   "pygments_lexer": "ipython3",
   "version": "3.12.7"
  }
 },
 "nbformat": 4,
 "nbformat_minor": 5
}
